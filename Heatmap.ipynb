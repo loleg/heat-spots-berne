{
 "cells": [
  {
   "cell_type": "code",
   "execution_count": 66,
   "metadata": {},
   "outputs": [],
   "source": [
    "from ipyleaflet import Map, Heatmap\n",
    "from random import uniform\n",
    "import time"
   ]
  },
  {
   "cell_type": "code",
   "execution_count": 67,
   "metadata": {},
   "outputs": [],
   "source": [
    "import pandas as pd"
   ]
  },
  {
   "cell_type": "code",
   "execution_count": 68,
   "metadata": {},
   "outputs": [
    {
     "data": {
      "text/html": [
       "<div>\n",
       "<style scoped>\n",
       "    .dataframe tbody tr th:only-of-type {\n",
       "        vertical-align: middle;\n",
       "    }\n",
       "\n",
       "    .dataframe tbody tr th {\n",
       "        vertical-align: top;\n",
       "    }\n",
       "\n",
       "    .dataframe thead th {\n",
       "        text-align: right;\n",
       "    }\n",
       "</style>\n",
       "<table border=\"1\" class=\"dataframe\">\n",
       "  <thead>\n",
       "    <tr style=\"text-align: right;\">\n",
       "      <th></th>\n",
       "      <th>time (UTC)</th>\n",
       "      <th>1</th>\n",
       "      <th>2</th>\n",
       "      <th>4</th>\n",
       "      <th>6</th>\n",
       "      <th>9</th>\n",
       "      <th>10</th>\n",
       "      <th>12</th>\n",
       "      <th>13</th>\n",
       "      <th>15</th>\n",
       "      <th>...</th>\n",
       "      <th>46</th>\n",
       "      <th>54</th>\n",
       "      <th>56</th>\n",
       "      <th>57</th>\n",
       "      <th>58</th>\n",
       "      <th>59</th>\n",
       "      <th>61</th>\n",
       "      <th>74</th>\n",
       "      <th>77</th>\n",
       "      <th>82</th>\n",
       "    </tr>\n",
       "  </thead>\n",
       "  <tbody>\n",
       "    <tr>\n",
       "      <th>0</th>\n",
       "      <td>2018-07-30 04:00:00+00:00</td>\n",
       "      <td>18.140</td>\n",
       "      <td>16.141</td>\n",
       "      <td>16.427</td>\n",
       "      <td>15.760</td>\n",
       "      <td>17.475</td>\n",
       "      <td>17.855</td>\n",
       "      <td>17.284</td>\n",
       "      <td>16.332</td>\n",
       "      <td>18.331</td>\n",
       "      <td>...</td>\n",
       "      <td>18.426</td>\n",
       "      <td>16.808</td>\n",
       "      <td>17.284</td>\n",
       "      <td>15.664</td>\n",
       "      <td>17.284</td>\n",
       "      <td>17.379</td>\n",
       "      <td>15.091</td>\n",
       "      <td>17.855</td>\n",
       "      <td>16.141</td>\n",
       "      <td>18.331</td>\n",
       "    </tr>\n",
       "    <tr>\n",
       "      <th>1</th>\n",
       "      <td>2018-07-30 04:10:00+00:00</td>\n",
       "      <td>18.140</td>\n",
       "      <td>16.046</td>\n",
       "      <td>16.237</td>\n",
       "      <td>15.664</td>\n",
       "      <td>17.379</td>\n",
       "      <td>17.665</td>\n",
       "      <td>17.189</td>\n",
       "      <td>16.237</td>\n",
       "      <td>18.236</td>\n",
       "      <td>...</td>\n",
       "      <td>18.236</td>\n",
       "      <td>16.523</td>\n",
       "      <td>17.094</td>\n",
       "      <td>15.664</td>\n",
       "      <td>17.379</td>\n",
       "      <td>17.379</td>\n",
       "      <td>15.091</td>\n",
       "      <td>17.760</td>\n",
       "      <td>16.046</td>\n",
       "      <td>18.331</td>\n",
       "    </tr>\n",
       "    <tr>\n",
       "      <th>2</th>\n",
       "      <td>2018-07-30 04:20:00+00:00</td>\n",
       "      <td>18.140</td>\n",
       "      <td>16.046</td>\n",
       "      <td>16.141</td>\n",
       "      <td>15.473</td>\n",
       "      <td>17.379</td>\n",
       "      <td>17.570</td>\n",
       "      <td>17.284</td>\n",
       "      <td>16.141</td>\n",
       "      <td>18.140</td>\n",
       "      <td>...</td>\n",
       "      <td>18.236</td>\n",
       "      <td>16.523</td>\n",
       "      <td>16.999</td>\n",
       "      <td>15.569</td>\n",
       "      <td>17.475</td>\n",
       "      <td>17.570</td>\n",
       "      <td>14.996</td>\n",
       "      <td>17.760</td>\n",
       "      <td>16.332</td>\n",
       "      <td>17.855</td>\n",
       "    </tr>\n",
       "    <tr>\n",
       "      <th>3</th>\n",
       "      <td>2018-07-30 04:30:00+00:00</td>\n",
       "      <td>18.045</td>\n",
       "      <td>16.046</td>\n",
       "      <td>16.237</td>\n",
       "      <td>15.378</td>\n",
       "      <td>17.284</td>\n",
       "      <td>17.570</td>\n",
       "      <td>17.379</td>\n",
       "      <td>16.046</td>\n",
       "      <td>18.140</td>\n",
       "      <td>...</td>\n",
       "      <td>18.236</td>\n",
       "      <td>16.903</td>\n",
       "      <td>16.808</td>\n",
       "      <td>15.569</td>\n",
       "      <td>17.284</td>\n",
       "      <td>17.570</td>\n",
       "      <td>14.996</td>\n",
       "      <td>17.665</td>\n",
       "      <td>16.332</td>\n",
       "      <td>17.475</td>\n",
       "    </tr>\n",
       "    <tr>\n",
       "      <th>4</th>\n",
       "      <td>2018-07-30 04:40:00+00:00</td>\n",
       "      <td>17.379</td>\n",
       "      <td>16.237</td>\n",
       "      <td>16.141</td>\n",
       "      <td>15.378</td>\n",
       "      <td>17.284</td>\n",
       "      <td>17.760</td>\n",
       "      <td>17.189</td>\n",
       "      <td>16.046</td>\n",
       "      <td>17.855</td>\n",
       "      <td>...</td>\n",
       "      <td>18.331</td>\n",
       "      <td>17.284</td>\n",
       "      <td>16.808</td>\n",
       "      <td>15.569</td>\n",
       "      <td>17.189</td>\n",
       "      <td>17.475</td>\n",
       "      <td>14.996</td>\n",
       "      <td>17.475</td>\n",
       "      <td>16.903</td>\n",
       "      <td>17.570</td>\n",
       "    </tr>\n",
       "  </tbody>\n",
       "</table>\n",
       "<p>5 rows × 78 columns</p>\n",
       "</div>"
      ],
      "text/plain": [
       "                  time (UTC)       1       2       4       6       9      10  \\\n",
       "0  2018-07-30 04:00:00+00:00  18.140  16.141  16.427  15.760  17.475  17.855   \n",
       "1  2018-07-30 04:10:00+00:00  18.140  16.046  16.237  15.664  17.379  17.665   \n",
       "2  2018-07-30 04:20:00+00:00  18.140  16.046  16.141  15.473  17.379  17.570   \n",
       "3  2018-07-30 04:30:00+00:00  18.045  16.046  16.237  15.378  17.284  17.570   \n",
       "4  2018-07-30 04:40:00+00:00  17.379  16.237  16.141  15.378  17.284  17.760   \n",
       "\n",
       "       12      13      15  ...      46      54      56      57      58  \\\n",
       "0  17.284  16.332  18.331  ...  18.426  16.808  17.284  15.664  17.284   \n",
       "1  17.189  16.237  18.236  ...  18.236  16.523  17.094  15.664  17.379   \n",
       "2  17.284  16.141  18.140  ...  18.236  16.523  16.999  15.569  17.475   \n",
       "3  17.379  16.046  18.140  ...  18.236  16.903  16.808  15.569  17.284   \n",
       "4  17.189  16.046  17.855  ...  18.331  17.284  16.808  15.569  17.189   \n",
       "\n",
       "       59      61      74      77      82  \n",
       "0  17.379  15.091  17.855  16.141  18.331  \n",
       "1  17.379  15.091  17.760  16.046  18.331  \n",
       "2  17.570  14.996  17.760  16.332  17.855  \n",
       "3  17.570  14.996  17.665  16.332  17.475  \n",
       "4  17.475  14.996  17.475  16.903  17.570  \n",
       "\n",
       "[5 rows x 78 columns]"
      ]
     },
     "execution_count": 68,
     "metadata": {},
     "output_type": "execute_result"
    }
   ],
   "source": [
    "df = pd.read_csv(\"data/data_harmonized_1.csv\")\n",
    "df.head()"
   ]
  },
  {
   "cell_type": "code",
   "execution_count": 69,
   "metadata": {},
   "outputs": [
    {
     "data": {
      "text/html": [
       "<div>\n",
       "<style scoped>\n",
       "    .dataframe tbody tr th:only-of-type {\n",
       "        vertical-align: middle;\n",
       "    }\n",
       "\n",
       "    .dataframe tbody tr th {\n",
       "        vertical-align: top;\n",
       "    }\n",
       "\n",
       "    .dataframe thead th {\n",
       "        text-align: right;\n",
       "    }\n",
       "</style>\n",
       "<table border=\"1\" class=\"dataframe\">\n",
       "  <thead>\n",
       "    <tr style=\"text-align: right;\">\n",
       "      <th></th>\n",
       "      <th>LOG_NR_2018</th>\n",
       "      <th>Log_NR_2019</th>\n",
       "      <th>NAME</th>\n",
       "      <th>NORD_CHTOPO</th>\n",
       "      <th>OST_CHTOPO</th>\n",
       "      <th>ELEV_CHTOPO</th>\n",
       "    </tr>\n",
       "  </thead>\n",
       "  <tbody>\n",
       "    <tr>\n",
       "      <th>0</th>\n",
       "      <td>1</td>\n",
       "      <td>16</td>\n",
       "      <td>Bubenbergplatz</td>\n",
       "      <td>46.94729</td>\n",
       "      <td>7.43849</td>\n",
       "      <td>542.5</td>\n",
       "    </tr>\n",
       "    <tr>\n",
       "      <th>1</th>\n",
       "      <td>2</td>\n",
       "      <td>86</td>\n",
       "      <td>Ostermundigen, Lötschenstr 13</td>\n",
       "      <td>46.95289</td>\n",
       "      <td>7.48707</td>\n",
       "      <td>551.5</td>\n",
       "    </tr>\n",
       "    <tr>\n",
       "      <th>2</th>\n",
       "      <td>3</td>\n",
       "      <td>-</td>\n",
       "      <td>Thormannstrasse 62</td>\n",
       "      <td>46.93888</td>\n",
       "      <td>7.45030</td>\n",
       "      <td>526.9</td>\n",
       "    </tr>\n",
       "    <tr>\n",
       "      <th>3</th>\n",
       "      <td>4</td>\n",
       "      <td>82</td>\n",
       "      <td>Thunplatz</td>\n",
       "      <td>46.94065</td>\n",
       "      <td>7.45822</td>\n",
       "      <td>551.6</td>\n",
       "    </tr>\n",
       "    <tr>\n",
       "      <th>4</th>\n",
       "      <td>5</td>\n",
       "      <td>-</td>\n",
       "      <td>PH Von Roll Dach (Solar)</td>\n",
       "      <td>46.95382</td>\n",
       "      <td>7.42310</td>\n",
       "      <td>553.9</td>\n",
       "    </tr>\n",
       "  </tbody>\n",
       "</table>\n",
       "</div>"
      ],
      "text/plain": [
       "  LOG_NR_2018 Log_NR_2019                           NAME  NORD_CHTOPO  \\\n",
       "0           1          16                 Bubenbergplatz     46.94729   \n",
       "1           2          86  Ostermundigen, Lötschenstr 13     46.95289   \n",
       "2           3           -             Thormannstrasse 62     46.93888   \n",
       "3           4          82                      Thunplatz     46.94065   \n",
       "4           5           -       PH Von Roll Dach (Solar)     46.95382   \n",
       "\n",
       "   OST_CHTOPO  ELEV_CHTOPO  \n",
       "0     7.43849        542.5  \n",
       "1     7.48707        551.5  \n",
       "2     7.45030        526.9  \n",
       "3     7.45822        551.6  \n",
       "4     7.42310        553.9  "
      ]
     },
     "execution_count": 69,
     "metadata": {},
     "output_type": "execute_result"
    }
   ],
   "source": [
    "df2 = pd.read_csv(\"data/Metadata_Logger.csv\")\n",
    "df2.head()"
   ]
  },
  {
   "cell_type": "markdown",
   "metadata": {},
   "source": [
    "Now that we have installed some libraries, we can work with the data:"
   ]
  },
  {
   "cell_type": "code",
   "execution_count": 70,
   "metadata": {},
   "outputs": [
    {
     "data": {
      "application/vnd.jupyter.widget-view+json": {
       "model_id": "db250ef66b794c03a44f88c692db1844",
       "version_major": 2,
       "version_minor": 0
      },
      "text/plain": [
       "Map(center=[46.948056, 7.4475], controls=(ZoomControl(options=['position', 'zoom_in_text', 'zoom_in_title', 'z…"
      ]
     },
     "metadata": {},
     "output_type": "display_data"
    }
   ],
   "source": [
    "m = Map(center=[46.948056, 7.4475], zoom=12)\n",
    "m"
   ]
  },
  {
   "cell_type": "code",
   "execution_count": 71,
   "metadata": {},
   "outputs": [],
   "source": [
    "def create_random_data(length):\n",
    "    \"Return a list of some random lat/lon/value triples.\"\n",
    "    return [[uniform(-80, 80), \n",
    "             uniform(-180, 180), \n",
    "             uniform(0, 1000)] for i in range(length)]"
   ]
  },
  {
   "cell_type": "code",
   "execution_count": 72,
   "metadata": {},
   "outputs": [],
   "source": [
    "def load_climate_data():\n",
    "    return [[row[\"NORD_CHTOPO\"], row[\"OST_CHTOPO\"], 10] for index, row in df2.iterrows()]"
   ]
  },
  {
   "cell_type": "code",
   "execution_count": 73,
   "metadata": {},
   "outputs": [],
   "source": [
    "heat = Heatmap(locations=load_climate_data(), radius=20, blur=10)\n",
    "m.add_layer(heat)"
   ]
  },
  {
   "cell_type": "code",
   "execution_count": 74,
   "metadata": {},
   "outputs": [],
   "source": [
    "# for i in range(100):\n",
    "#    heat.locations = create_random_data(1000)\n",
    "#    time.sleep(0.1)"
   ]
  },
  {
   "cell_type": "code",
   "execution_count": 75,
   "metadata": {},
   "outputs": [],
   "source": [
    "heat.radius = 30"
   ]
  },
  {
   "cell_type": "code",
   "execution_count": 76,
   "metadata": {},
   "outputs": [],
   "source": [
    "heat.blur = 50"
   ]
  },
  {
   "cell_type": "code",
   "execution_count": 77,
   "metadata": {},
   "outputs": [],
   "source": [
    "heat.max = 0.5"
   ]
  },
  {
   "cell_type": "code",
   "execution_count": 78,
   "metadata": {},
   "outputs": [],
   "source": [
    "heat.gradient = {0.4: 'red', 0.6: 'yellow', 0.7: 'lime', 0.8: 'cyan', 1.0: 'blue'}"
   ]
  },
  {
   "cell_type": "code",
   "execution_count": 79,
   "metadata": {},
   "outputs": [],
   "source": [
    "#heat.locations = [[uniform(-80, 80), uniform(-180, 180), uniform(0, 1000)] for i in range(1000)]"
   ]
  }
 ],
 "metadata": {
  "kernelspec": {
   "display_name": "Python 3 (ipykernel)",
   "language": "python",
   "name": "python3"
  },
  "language_info": {
   "codemirror_mode": {
    "name": "ipython",
    "version": 3
   },
   "file_extension": ".py",
   "mimetype": "text/x-python",
   "name": "python",
   "nbconvert_exporter": "python",
   "pygments_lexer": "ipython3",
   "version": "3.9.6"
  }
 },
 "nbformat": 4,
 "nbformat_minor": 2
}
